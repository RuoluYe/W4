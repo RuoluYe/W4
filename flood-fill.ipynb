{
 "cells": [
  {
   "cell_type": "code",
   "execution_count": 1,
   "metadata": {},
   "outputs": [
    {
     "name": "stdout",
     "output_type": "stream",
     "text": [
      "......................\n",
      "......##########......\n",
      "......#~~~~~~~~#......\n",
      "......####~~~###......\n",
      "......#~~~~~~~~#####..\n",
      "....####~~~~~~~#####..\n",
      "....####~~~~~~~~####..\n",
      "....##############....\n"
     ]
    }
   ],
   "source": [
    "from re import X\n",
    "from typing import List\n",
    "\n",
    "board = [\n",
    "    \"......................\",\n",
    "    \"......##########......\",\n",
    "    \"......#........#......\",\n",
    "    \"......####...###......\",\n",
    "    \"......#........#####..\",\n",
    "    \"....####.......#####..\",\n",
    "    \"....####........####..\",\n",
    "    \"....##############....\",\n",
    "]\n",
    "\n",
    "\n",
    "def flood_fill(input_board: List[str], old: str, new: str, x: int, y: int) -> List[str]:\n",
    "    \"\"\"Returns board with old values replaced with new values\n",
    "    through flood filling starting from the coordinates x, y\n",
    "    Args:\n",
    "        input_board (List[str])\n",
    "        old (str): Value to be replaced\n",
    "        new (str): Value that replaces the old\n",
    "        x (int): X-coordinate of the flood start point\n",
    "        y (int): Y-coordinate of the flood start point\n",
    "    Returns:\n",
    "        List[str]: Modified board\n",
    "    \"\"\"\n",
    "    # Implement your code here.\n",
    "\n",
    "    if x < 0 or x >= len(input_board): return \n",
    "    if y < 0 or y >= len(input_board[0]): return\n",
    "    \n",
    "    if  (input_board[x][y] != old): return\n",
    "    \n",
    "    input_board[x] = input_board[x][:y] + new + input_board[x][y+1:]\n",
    "\n",
    "    flood_fill(input_board, old, new, x - 1, y)\n",
    "    flood_fill(input_board, old, new, x + 1, y)\n",
    "    flood_fill(input_board, old, new, x, y + 1)\n",
    "    flood_fill(input_board, old, new, x, y - 1)\n",
    "    \n",
    "    return input_board\n",
    "\n",
    "\n",
    "modified_board = flood_fill(input_board = board, old = \".\", new = \"~\", x = 6, y = 12)\n",
    "\n",
    "for a in modified_board:\n",
    "    print(a)\n",
    "\n",
    "# Expected output:\n",
    "# ......................\n",
    "# ......##########......\n",
    "# ......#~~~~~~~~#......\n",
    "# ......#~~~~~~~~#......\n",
    "# ......#~~~~~~~~#####..\n",
    "# ....###~~~~~~~~~~~~#..\n",
    "# ....#~~~~~~~~~~~~###..\n",
    "# ....##############...."
   ]
  }
 ],
 "metadata": {
  "kernelspec": {
   "display_name": "Python 3.10.4 64-bit",
   "language": "python",
   "name": "python3"
  },
  "language_info": {
   "codemirror_mode": {
    "name": "ipython",
    "version": 3
   },
   "file_extension": ".py",
   "mimetype": "text/x-python",
   "name": "python",
   "nbconvert_exporter": "python",
   "pygments_lexer": "ipython3",
   "version": "3.10.4"
  },
  "orig_nbformat": 4,
  "vscode": {
   "interpreter": {
    "hash": "ee1fcc39ea2643269112e4242e7b31f26199f0f5df24598af3ab1615efafe315"
   }
  }
 },
 "nbformat": 4,
 "nbformat_minor": 2
}
